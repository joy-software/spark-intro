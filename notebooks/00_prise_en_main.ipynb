{
 "cells": [
  {
   "cell_type": "markdown",
   "metadata": {},
   "source": [
    "# Vérification du fonctionnement de Spark\n",
    "1. Exécuter la cellule suivante"
   ]
  },
  {
   "cell_type": "code",
   "execution_count": 1,
   "metadata": {},
   "outputs": [
    {
     "data": {
      "text/plain": [
       "Array(725, 949, 464, 327, 182)"
      ]
     },
     "execution_count": 1,
     "metadata": {},
     "output_type": "execute_result"
    }
   ],
   "source": [
    "val rdd = sc.parallelize(0 to 999)\n",
    "rdd.takeSample(false, 5)"
   ]
  },
  {
   "cell_type": "markdown",
   "metadata": {},
   "source": [
    "# Téléchargement du jeu de données\n",
    "1. Récupérer le jeu de données [Fichier par départements de naissance](https://www.insee.fr/fr/statistiques/fichier/2540004/dpt2015_txt.zip) ([Fichier des prénoms - Edition 2016](http://www.data.gouv.fr/fr/datasets/fichier-des-prenoms-edition-2016/)). La documentation du fichier se trouve [ici](https://www.insee.fr/fr/statistiques/2540004#dictionnaire).\n",
    "1. Faire de même avec la [Liste des départements](https://www.insee.fr/fr/information/2114819#titre-bloc-26) (format txt)\n",
    "1. Extraire les fichiers des archives\n",
    "1. Renommer `dpt2015.txt` en `prenoms.txt` et `depts2016.txt` en `dpts.txt`."
   ]
  }
 ],
 "metadata": {
  "kernelspec": {
   "display_name": "Apache Toree - Scala",
   "language": "scala",
   "name": "apache_toree_scala"
  },
  "language_info": {
   "file_extension": ".scala",
   "name": "scala",
   "version": "2.11.8"
  }
 },
 "nbformat": 4,
 "nbformat_minor": 2
}
