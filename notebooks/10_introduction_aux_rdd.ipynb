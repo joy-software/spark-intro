{
 "cells": [
  {
   "cell_type": "markdown",
   "metadata": {},
   "source": [
    "# Une fonction pour simplifier l'accès aux données"
   ]
  },
  {
   "cell_type": "code",
   "execution_count": 1,
   "metadata": {},
   "outputs": [],
   "source": [
    "def extractField(s: String, fieldNumber: Int): String = {\n",
    "    val fields = s.split('\\t')\n",
    "    if (fieldNumber >= fields.length) \"\" else fields(fieldNumber)\n",
    "}"
   ]
  },
  {
   "cell_type": "code",
   "execution_count": 2,
   "metadata": {},
   "outputs": [
    {
     "name": "stdout",
     "output_type": "stream",
     "text": [
      "2\n",
      "CASSIOPEE\n",
      "2009\n",
      "33\n",
      "3.0000\n"
     ]
    }
   ],
   "source": [
    "println(extractField(\"2\tCASSIOPEE\t2009\t33\t3.0000\", 0))\n",
    "println(extractField(\"2\tCASSIOPEE\t2009\t33\t3.0000\", 1))\n",
    "println(extractField(\"2\tCASSIOPEE\t2009\t33\t3.0000\", 2))\n",
    "println(extractField(\"2\tCASSIOPEE\t2009\t33\t3.0000\", 3))\n",
    "println(extractField(\"2\tCASSIOPEE\t2009\t33\t3.0000\", 4))\n",
    "println(extractField(\"2\tCASSIOPEE\t2009\t33\t3.0000\", 5))"
   ]
  },
  {
   "cell_type": "markdown",
   "metadata": {},
   "source": [
    "# Charger les données\n",
    "1. Créer le RDD `lignes` à partir du répertoire `prenoms_sample.txt`"
   ]
  },
  {
   "cell_type": "code",
   "execution_count": 2,
   "metadata": {
    "scrolled": true
   },
   "outputs": [
    {
     "name": "stdout",
     "output_type": "stream",
     "text": [
      "2\tLISON\t2010\t72\t4.0000\n",
      "2\tLIVIA\t2005\t25\t3.0000\n",
      "2\tLIVIA\t2014\t63\t7.0000\n",
      "2\tLOANE\t2003\t16\t4.0000\n",
      "2\tLOLA\t1996\t09\t3.0000\n",
      "2\tLOLA\t2014\t93\t13.0000\n",
      "2\tLOLA\t2015\t11\t20.0000\n",
      "2\tLOLA\t2015\t64\t38.0000\n",
      "2\tLOLITA\t2011\t59\t3.0000\n",
      "2\tLORETTE\t2002\t13\t3.0000\n"
     ]
    }
   ],
   "source": [
    "val lignes = sc.textFile(\"prenoms_sample.txt\")\n",
    "lignes.take(10).foreach(println)"
   ]
  },
  {
   "cell_type": "markdown",
   "metadata": {},
   "source": [
    "# Transformer les lignes en prénoms\n",
    "1. En appliquant la méthode `map`, créer le RDD `prenoms` à partir de `lignes`"
   ]
  },
  {
   "cell_type": "code",
   "execution_count": 3,
   "metadata": {
    "scrolled": true
   },
   "outputs": [
    {
     "name": "stdout",
     "output_type": "stream",
     "text": [
      "(2,LISON,2010,72,4)\n",
      "(2,LIVIA,2005,25,3)\n",
      "(2,LIVIA,2014,63,7)\n",
      "(2,LOANE,2003,16,4)\n",
      "(2,LOLA,1996,9,3)\n",
      "(2,LOLA,2014,93,13)\n",
      "(2,LOLA,2015,11,20)\n",
      "(2,LOLA,2015,64,38)\n",
      "(2,LOLITA,2011,59,3)\n",
      "(2,LORETTE,2002,13,3)\n"
     ]
    }
   ],
   "source": [
    "val prenoms = lignes.map(l => (\n",
    "    extractField(l, 0).charAt(0),\n",
    "    extractField(l, 1),\n",
    "    extractField(l, 2).toInt,\n",
    "    extractField(l, 3).toInt,\n",
    "    extractField(l, 4).toDouble.toInt\n",
    "))\n",
    "prenoms.take(10).foreach(println)"
   ]
  },
  {
   "cell_type": "markdown",
   "metadata": {},
   "source": [
    "# Interroger les données\n",
    "La documentation des méthodes d'un RDD est disponible ([RDD](https://spark.apache.org/docs/latest/api/scala/index.html#org.apache.spark.rdd.RDD), [PairRDDFunctions](https://spark.apache.org/docs/latest/api/scala/index.html#org.apache.spark.rdd.PairRDDFunctions)).\n",
    "\n",
    "1. Rappeler ce que sont les *transformations* et les *actions*\n",
    "1. Donner, pour chaque prénom, son nombre d'occurences (`map` et `reduceByKey`)"
   ]
  },
  {
   "cell_type": "code",
   "execution_count": 57,
   "metadata": {
    "scrolled": false
   },
   "outputs": [
    {
     "name": "stdout",
     "output_type": "stream",
     "text": [
      "(BRICE,16)\n",
      "(THIMEO,4)\n",
      "(NADIR,9)\n",
      "(ASSIA,9)\n",
      "(NAD�GE,8)\n",
      "(NICOLLE,9)\n",
      "(SOUMAYA,6)\n",
      "(AM�LIE,75)\n",
      "(DANIELE,139)\n",
      "(ANNE-SOPHIE,20)\n"
     ]
    }
   ],
   "source": [
    "val result = prenoms.map(l => ( l._2,l._5)).reduceByKey((counter,n) => counter + n)\n",
    "result.take(10).foreach(println)"
   ]
  },
  {
   "cell_type": "markdown",
   "metadata": {},
   "source": [
    "1. Donner le nombre total de naissances avec un prénom féminin (`filter`, `map`, `reduce` ou `sum`)"
   ]
  },
  {
   "cell_type": "code",
   "execution_count": 85,
   "metadata": {},
   "outputs": [
    {
     "data": {
      "text/plain": [
       "36521"
      ]
     },
     "execution_count": 85,
     "metadata": {},
     "output_type": "execute_result"
    }
   ],
   "source": [
    "prenoms.filter(l => (l._1 == '2')).map(l => l._5).reduce((sum,n)=>(sum+n)).toString()"
   ]
  },
  {
   "cell_type": "markdown",
   "metadata": {},
   "source": [
    "1. Donner l'effectif maximal et minimal par prénom (`map`, `aggregateByKey`)"
   ]
  },
  {
   "cell_type": "code",
   "execution_count": 99,
   "metadata": {},
   "outputs": [
    {
     "name": "stdout",
     "output_type": "stream",
     "text": [
      "\r",
      "                                                                                \r",
      "(BRICE,(4,7))\n",
      "(THIMEO,(4,4))\n",
      "(NADIR,(3,6))\n",
      "(ASSIA,(9,9))\n",
      "(NAD�GE,(4,4))\n",
      "(NICOLLE,(4,5))\n",
      "(SOUMAYA,(3,3))\n",
      "(AM�LIE,(4,41))\n",
      "(DANIELE,(20,75))\n",
      "(ANNE-SOPHIE,(5,15))\n"
     ]
    }
   ],
   "source": [
    "val result = prenoms.map(p => (p._2,p._5)).aggregateByKey((Int.MaxValue,Int.MinValue))(\n",
    "{case ((m,n),v1) => (m min v1, n max v1)},\n",
    "{case((m,n),(m1,n1)) => (m min m1, n max n1)});\n",
    "result.take(10).foreach(println)"
   ]
  },
  {
   "cell_type": "markdown",
   "metadata": {},
   "source": [
    "1. Sur le modèle des prénoms, charger les données des départements\n",
    "1. Donner, pour chaque nom de département, le prénom le plus fréquent depuis l'année 2000"
   ]
  },
  {
   "cell_type": "code",
   "execution_count": 140,
   "metadata": {},
   "outputs": [
    {
     "name": "stdout",
     "output_type": "stream",
     "text": [
      "(84,1,1053,5,AIN,Ain)\n",
      "(32,2,2408,5,AISNE,Aisne)\n",
      "(84,3,3190,5,ALLIER,Allier)\n",
      "(93,4,4070,4,ALPES-DE-HAUTE-PROVENCE,Alpes-de-Haute-Provence)\n",
      "(93,5,5061,4,HAUTES-ALPES,Hautes-Alpes)\n"
     ]
    }
   ],
   "source": [
    "val lignesDept = sc.textFile(\"depts.txt\").filter(l => l.startsWith(\"REGION\") == false).filter(\n",
    "    l => l.contains(\"2A\") == false).filter(l => l.contains(\"2B\") == false)\n",
    "val depts = lignesDept.map(l => (\n",
    "    extractField(l, 0).toInt,\n",
    "    extractField(l, 1).toInt,\n",
    "    extractField(l, 2).toInt,\n",
    "    extractField(l, 3).toInt,\n",
    "    extractField(l, 4),\n",
    "    extractField(l, 5)\n",
    "))\n",
    "depts.take(5).foreach(println)"
   ]
  },
  {
   "cell_type": "code",
   "execution_count": 205,
   "metadata": {
    "scrolled": true
   },
   "outputs": [
    {
     "name": "stdout",
     "output_type": "stream",
     "text": [
      "\tjoins\n",
      "(84,(VAUCLUSE,(MYL�NE,3)))\n",
      "(84,(VAUCLUSE,(NORAH,3)))\n",
      "\t--------\n",
      "\t(dept,(prenom, count))\n",
      "(JURA,(ANNA,5))\n",
      "(PYRENEES-ORIENTALES,(LOUISE,13))\n",
      "\t--------\n",
      "\tresult\n",
      "(JURA,(ANNA,5))\n",
      "(PYRENEES-ORIENTALES,(LOUISE,13))\n",
      "(PAS-DE-CALAIS,(THA�S,12))\n",
      "(PUY-DE-DOME,(ANGELINA,10))\n",
      "(DROME,(MAXIME,23))\n",
      "(MAINE-ET-LOIRE,(ALEXIS,80))\n",
      "(TARN,(SACHA,18))\n",
      "(HAUTE-MARNE,(LENNY,9))\n",
      "(YONNE,(CL�MENT,10))\n",
      "(CHARENTE,(LIAM,10))\n"
     ]
    }
   ],
   "source": [
    "val deptsJoin = depts.map(l => (l._2,l._5))\n",
    "val prenomsJoin = prenoms.filter(l => l._3 >= 2000).map(l => (l._4,(l._2,l._5)))\n",
    "val joins = deptsJoin.join(prenomsJoin)\n",
    "println(\"\\tjoins\")\n",
    "joins.take(2).foreach(println)\n",
    "val deptPreCount = joins.map(l => (l._2._1,(l._2._2._1,l._2._2._2)))\n",
    "println(\"\\t--------\")\n",
    "println(\"\\t(dept,(prenom, count))\")\n",
    "result.take(2).foreach(println)\n",
    "val result = preUtil.aggregateByKey((\"\",Int.MinValue))(\n",
    "{case ((m,n),(v1,v2)) =>( if (n > v2) m else v1,n max v2)},\n",
    "{case ((m,n),(v1,v2)) =>( if (n > v2) m else v1,n max v2)})\n",
    "println(\"\\t--------\")\n",
    "println(\"\\tresult\")\n",
    "\n",
    "result.take(10).foreach(println)\n"
   ]
  },
  {
   "cell_type": "code",
   "execution_count": null,
   "metadata": {},
   "outputs": [],
   "source": []
  }
 ],
 "metadata": {
  "kernelspec": {
   "display_name": "Apache Toree - Scala",
   "language": "scala",
   "name": "apache_toree_scala"
  },
  "language_info": {
   "file_extension": ".scala",
   "name": "scala",
   "version": "2.11.8"
  }
 },
 "nbformat": 4,
 "nbformat_minor": 2
}
